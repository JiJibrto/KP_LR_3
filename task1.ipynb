{
 "cells": [
  {
   "cell_type": "markdown",
   "metadata": {},
   "source": [
    "<h1>Лабораторная работа 3. Исследование методов работы с матрицами и векторами с помощью библиотеки NumPy<h1>"
   ]
  },
  {
   "cell_type": "code",
   "execution_count": 1,
   "metadata": {},
   "outputs": [],
   "source": [
    "import numpy as np"
   ]
  },
  {
   "cell_type": "markdown",
   "metadata": {},
   "source": [
    "<h3>Транспонирование матрицы</h3>"
   ]
  },
  {
   "cell_type": "code",
   "execution_count": 2,
   "metadata": {},
   "outputs": [
    {
     "name": "stdout",
     "output_type": "stream",
     "text": [
      "[[2 4 5]\n",
      " [0 9 8]]\n"
     ]
    }
   ],
   "source": [
    "trans_arr = np.matrix('2 4 5; 0 9 8')\n",
    "print(trans_arr)"
   ]
  },
  {
   "cell_type": "code",
   "execution_count": 3,
   "metadata": {},
   "outputs": [
    {
     "name": "stdout",
     "output_type": "stream",
     "text": [
      "[[2 0]\n",
      " [4 9]\n",
      " [5 8]]\n"
     ]
    }
   ],
   "source": [
    "trans = trans_arr.transpose()\n",
    "print(trans)"
   ]
  },
  {
   "cell_type": "markdown",
   "metadata": {},
   "source": [
    "<b>Свойство 1.</b> Дважды транспонированная матрица равна исходной матрице:"
   ]
  },
  {
   "cell_type": "code",
   "execution_count": 4,
   "metadata": {},
   "outputs": [
    {
     "name": "stdout",
     "output_type": "stream",
     "text": [
      "[[2 4 5]\n",
      " [1 0 2]\n",
      " [2 8 5]]\n"
     ]
    }
   ],
   "source": [
    "trans_a = np.matrix('2 4 5; 1 0 2; 2 8 5')\n",
    "print(trans_a)"
   ]
  },
  {
   "cell_type": "code",
   "execution_count": 5,
   "metadata": {},
   "outputs": [
    {
     "name": "stdout",
     "output_type": "stream",
     "text": [
      "[[2 4 5]\n",
      " [1 0 2]\n",
      " [2 8 5]]\n"
     ]
    }
   ],
   "source": [
    "print((trans_a.T).T)"
   ]
  },
  {
   "cell_type": "markdown",
   "metadata": {},
   "source": [
    "<b>Свойство 2.</b> Транспонирование суммы матриц равно сумме транспонированных матриц:"
   ]
  },
  {
   "cell_type": "code",
   "execution_count": 6,
   "metadata": {},
   "outputs": [],
   "source": [
    "trans_a = np.matrix('2 4 5; 8 9 10')\n",
    "trans_b = np.matrix('7 8 9; 5 6 1')"
   ]
  },
  {
   "cell_type": "code",
   "execution_count": 7,
   "metadata": {},
   "outputs": [
    {
     "name": "stdout",
     "output_type": "stream",
     "text": [
      "[[ 9 13]\n",
      " [12 15]\n",
      " [14 11]]\n"
     ]
    }
   ],
   "source": [
    "trans_l = (trans_a + trans_b).T\n",
    "print(trans_l)"
   ]
  },
  {
   "cell_type": "code",
   "execution_count": 8,
   "metadata": {},
   "outputs": [
    {
     "name": "stdout",
     "output_type": "stream",
     "text": [
      "[[ 9 13]\n",
      " [12 15]\n",
      " [14 11]]\n"
     ]
    }
   ],
   "source": [
    "trans_r = trans_a.T + trans_b.T\n",
    "print(trans_r)"
   ]
  },
  {
   "cell_type": "markdown",
   "metadata": {},
   "source": [
    "<b>Свойство 3.</b> Транспонирование произведения матриц равно произведению транспонированных\n",
    "матриц расставленных в обратном порядке:"
   ]
  },
  {
   "cell_type": "code",
   "execution_count": 9,
   "metadata": {},
   "outputs": [],
   "source": [
    "trans_a = np.matrix('2 6; 9 1')\n",
    "trans_b = np.matrix('5 8; 1 4')"
   ]
  },
  {
   "cell_type": "code",
   "execution_count": 10,
   "metadata": {},
   "outputs": [
    {
     "name": "stdout",
     "output_type": "stream",
     "text": [
      "[[16 46]\n",
      " [40 76]]\n"
     ]
    }
   ],
   "source": [
    "trans_l = (trans_a.dot(trans_b)).T\n",
    "print(trans_l)"
   ]
  },
  {
   "cell_type": "code",
   "execution_count": 11,
   "metadata": {},
   "outputs": [
    {
     "name": "stdout",
     "output_type": "stream",
     "text": [
      "[[16 46]\n",
      " [40 76]]\n"
     ]
    }
   ],
   "source": [
    "trans_r = (trans_b.T).dot(trans_a.T)\n",
    "print(trans_r)"
   ]
  },
  {
   "cell_type": "markdown",
   "metadata": {},
   "source": [
    "<b>Свойство 4.</b>  Транспонирование произведения матрицы на число равно произведению этого\n",
    "числа на транспонированную матрицу:"
   ]
  },
  {
   "cell_type": "code",
   "execution_count": 12,
   "metadata": {},
   "outputs": [],
   "source": [
    "trans_a = np.matrix('2 9 7; 1 3 8')\n",
    "trans_k = 4"
   ]
  },
  {
   "cell_type": "code",
   "execution_count": 13,
   "metadata": {},
   "outputs": [
    {
     "name": "stdout",
     "output_type": "stream",
     "text": [
      "[[ 8  4]\n",
      " [36 12]\n",
      " [28 32]]\n"
     ]
    }
   ],
   "source": [
    "trans_l = (trans_k * trans_a).T\n",
    "print(trans_l)"
   ]
  },
  {
   "cell_type": "code",
   "execution_count": 14,
   "metadata": {},
   "outputs": [
    {
     "name": "stdout",
     "output_type": "stream",
     "text": [
      "[[ 8  4]\n",
      " [36 12]\n",
      " [28 32]]\n"
     ]
    }
   ],
   "source": [
    "trans_r = trans_k * (trans_a.T)\n",
    "print(trans_r)"
   ]
  },
  {
   "cell_type": "markdown",
   "metadata": {},
   "source": [
    "<h2>Действия над матрицами</h2>"
   ]
  },
  {
   "cell_type": "markdown",
   "metadata": {},
   "source": [
    "<h3>Умножение матрицы на число</h3>"
   ]
  },
  {
   "cell_type": "code",
   "execution_count": 15,
   "metadata": {},
   "outputs": [
    {
     "name": "stdout",
     "output_type": "stream",
     "text": [
      "[[ 8  8  8]\n",
      " [16 16 16]]\n"
     ]
    }
   ],
   "source": [
    "A = np.matrix('1 1 1; 2 2 2')\n",
    "B = 8 * A\n",
    "print(B)"
   ]
  },
  {
   "cell_type": "markdown",
   "metadata": {},
   "source": [
    "<b>Свойство 1.</b> Произведение единицы и любой заданной матрицы равно заданной матрице:"
   ]
  },
  {
   "cell_type": "code",
   "execution_count": 16,
   "metadata": {},
   "outputs": [
    {
     "name": "stdout",
     "output_type": "stream",
     "text": [
      "[[1 1]\n",
      " [2 2]]\n"
     ]
    }
   ],
   "source": [
    "A = np.matrix('1 1; 2 2')\n",
    "print(A)"
   ]
  },
  {
   "cell_type": "code",
   "execution_count": 17,
   "metadata": {},
   "outputs": [
    {
     "name": "stdout",
     "output_type": "stream",
     "text": [
      "[[1 1]\n",
      " [2 2]]\n"
     ]
    }
   ],
   "source": [
    "B = A *1\n",
    "print(B)"
   ]
  },
  {
   "cell_type": "markdown",
   "metadata": {},
   "source": [
    "<b>Свойство 2.</b> Если у матрицы есть строка или столбец, состоящие из нулей, то определитель\n",
    "такой матрицы равен нулю:"
   ]
  },
  {
   "cell_type": "code",
   "execution_count": 22,
   "metadata": {},
   "outputs": [],
   "source": [
    "mult_a = np.matrix(\"1 2 3; 4 5 6; 7 8 9\")\n",
    "mult_p = 2\n",
    "mult_q = 3"
   ]
  },
  {
   "cell_type": "code",
   "execution_count": 23,
   "metadata": {},
   "outputs": [
    {
     "name": "stdout",
     "output_type": "stream",
     "text": [
      "[[ 5 10 15]\n",
      " [20 25 30]\n",
      " [35 40 45]]\n"
     ]
    }
   ],
   "source": [
    "mult_l = (mult_p + mult_q) * mult_a\n",
    "print(mult_l)"
   ]
  },
  {
   "cell_type": "code",
   "execution_count": 24,
   "metadata": {},
   "outputs": [
    {
     "name": "stdout",
     "output_type": "stream",
     "text": [
      "[[ 5 10 15]\n",
      " [20 25 30]\n",
      " [35 40 45]]\n"
     ]
    }
   ],
   "source": [
    "mult_r = mult_p * mult_a + mult_q * mult_a\n",
    "print(mult_r)"
   ]
  },
  {
   "cell_type": "markdown",
   "metadata": {},
   "source": [
    "<b>Свойство 3.</b> Произведение матрицы на произведение двух чисел равно произведению второго числа и заданной матрицы, умноженному на первое число:"
   ]
  },
  {
   "cell_type": "code",
   "execution_count": 26,
   "metadata": {},
   "outputs": [
    {
     "name": "stdout",
     "output_type": "stream",
     "text": [
      "[[ 6 12 18]\n",
      " [24 30 36]\n",
      " [42 48 54]]\n"
     ]
    }
   ],
   "source": [
    "mult_l = (mult_p * mult_q) * mult_a\n",
    "print(mult_l)"
   ]
  },
  {
   "cell_type": "code",
   "execution_count": 27,
   "metadata": {},
   "outputs": [
    {
     "name": "stdout",
     "output_type": "stream",
     "text": [
      "[[ 6 12 18]\n",
      " [24 30 36]\n",
      " [42 48 54]]\n"
     ]
    }
   ],
   "source": [
    "mult_r = mult_p * (mult_q * mult_a)\n",
    "print(mult_r)"
   ]
  },
  {
   "cell_type": "markdown",
   "metadata": {},
   "source": [
    "<b>Свойство 4.</b> Произведение суммы матриц на число равно сумме произведений этих матриц на заданное число:"
   ]
  },
  {
   "cell_type": "code",
   "execution_count": 30,
   "metadata": {},
   "outputs": [],
   "source": [
    "mult_a = np.matrix('2 2; 4 7')\n",
    "mult_b = np.matrix('1 6; 9 8')\n",
    "mult_k = 3"
   ]
  },
  {
   "cell_type": "code",
   "execution_count": 34,
   "metadata": {},
   "outputs": [
    {
     "name": "stdout",
     "output_type": "stream",
     "text": [
      "[[ 9 24]\n",
      " [39 45]]\n"
     ]
    }
   ],
   "source": [
    "mult_l = mult_k * (mult_a + mult_b)\n",
    "print(mult_l)"
   ]
  },
  {
   "cell_type": "code",
   "execution_count": 35,
   "metadata": {},
   "outputs": [
    {
     "name": "stdout",
     "output_type": "stream",
     "text": [
      "[[ 9 24]\n",
      " [39 45]]\n"
     ]
    }
   ],
   "source": [
    "mult_r = mult_k * mult_a + mult_k * mult_b\n",
    "print(mult_r)"
   ]
  },
  {
   "cell_type": "markdown",
   "metadata": {},
   "source": [
    "<h3>Сложение матриц</h3>"
   ]
  },
  {
   "cell_type": "code",
   "execution_count": 36,
   "metadata": {},
   "outputs": [],
   "source": [
    "sum_a = np.matrix('2 2; 4 7')\n",
    "sum_b = np.matrix('1 6; 9 8')"
   ]
  },
  {
   "cell_type": "code",
   "execution_count": 37,
   "metadata": {},
   "outputs": [
    {
     "name": "stdout",
     "output_type": "stream",
     "text": [
      "[[ 3  8]\n",
      " [13 15]]\n"
     ]
    }
   ],
   "source": [
    "sum_c = sum_a + sum_b\n",
    "print(sum_c)"
   ]
  },
  {
   "cell_type": "markdown",
   "metadata": {},
   "source": [
    "<b>Свойство 1.</b>  Коммутативность сложения. От перестановки матриц их сумма не изменяется:"
   ]
  },
  {
   "cell_type": "code",
   "execution_count": 38,
   "metadata": {},
   "outputs": [],
   "source": [
    "sum_a = np.matrix('2 2; 4 7')\n",
    "sum_b = np.matrix('1 6; 9 8')"
   ]
  },
  {
   "cell_type": "code",
   "execution_count": 39,
   "metadata": {},
   "outputs": [
    {
     "name": "stdout",
     "output_type": "stream",
     "text": [
      "[[ 3  8]\n",
      " [13 15]]\n"
     ]
    }
   ],
   "source": [
    "sum_l = sum_a + sum_b\n",
    "print(sum_l)"
   ]
  },
  {
   "cell_type": "code",
   "execution_count": 40,
   "metadata": {},
   "outputs": [
    {
     "name": "stdout",
     "output_type": "stream",
     "text": [
      "[[ 3  8]\n",
      " [13 15]]\n"
     ]
    }
   ],
   "source": [
    "sum_q = sum_b + sum_a\n",
    "print(sum_q)"
   ]
  },
  {
   "cell_type": "markdown",
   "metadata": {},
   "source": [
    "<b>Свойство 2.</b> Ассоциативность сложения. Результат сложения трех и более матриц не зависит от\n",
    "порядка, в котором эта операция будет выполняться:"
   ]
  },
  {
   "cell_type": "code",
   "execution_count": 41,
   "metadata": {},
   "outputs": [],
   "source": [
    "sum_a = np.matrix('2 2; 4 7')\n",
    "sum_b = np.matrix('1 6; 9 8')\n",
    "sum_c = np.matrix('3 8; 4 9')"
   ]
  },
  {
   "cell_type": "code",
   "execution_count": 42,
   "metadata": {},
   "outputs": [
    {
     "name": "stdout",
     "output_type": "stream",
     "text": [
      "[[ 6 16]\n",
      " [17 24]]\n"
     ]
    }
   ],
   "source": [
    "sum_l = sum_a + (sum_b + sum_c)\n",
    "print(sum_l)"
   ]
  },
  {
   "cell_type": "code",
   "execution_count": 44,
   "metadata": {},
   "outputs": [
    {
     "name": "stdout",
     "output_type": "stream",
     "text": [
      "[[ 6 16]\n",
      " [17 24]]\n"
     ]
    }
   ],
   "source": [
    "sum_q = (sum_a + sum_b) + sum_c\n",
    "print(sum_q)"
   ]
  },
  {
   "cell_type": "markdown",
   "metadata": {},
   "source": [
    "<b>Свойство 3.</b> Для любой матрицы существует противоположная ей, такая, что их сумма является нулевой матрицей :"
   ]
  },
  {
   "cell_type": "code",
   "execution_count": 49,
   "metadata": {},
   "outputs": [],
   "source": [
    "sum_a = np.matrix('2 2; 4 7')\n",
    "sum_b = np.matrix('0 0; 0 0')"
   ]
  },
  {
   "cell_type": "code",
   "execution_count": 50,
   "metadata": {},
   "outputs": [
    {
     "name": "stdout",
     "output_type": "stream",
     "text": [
      "[[0 0]\n",
      " [0 0]]\n"
     ]
    }
   ],
   "source": [
    "sum_l = sum_a + (-1) * sum_a\n",
    "print(sum_l)"
   ]
  },
  {
   "cell_type": "code",
   "execution_count": 51,
   "metadata": {},
   "outputs": [
    {
     "name": "stdout",
     "output_type": "stream",
     "text": [
      "[[0 0]\n",
      " [0 0]]\n"
     ]
    }
   ],
   "source": [
    "print(sum_b)"
   ]
  },
  {
   "cell_type": "markdown",
   "metadata": {},
   "source": [
    "<h3>Умножение матриц</h3>"
   ]
  },
  {
   "cell_type": "code",
   "execution_count": 56,
   "metadata": {},
   "outputs": [],
   "source": [
    "sum_a = np.matrix('2 2 2; 5 4 7')\n",
    "sum_b = np.matrix('6 9; 8 2; 4 5')"
   ]
  },
  {
   "cell_type": "code",
   "execution_count": 57,
   "metadata": {},
   "outputs": [
    {
     "name": "stdout",
     "output_type": "stream",
     "text": [
      "[[36 32]\n",
      " [90 88]]\n"
     ]
    }
   ],
   "source": [
    "sum_l = sum_a.dot(sum_b)\n",
    "print(sum_l)"
   ]
  },
  {
   "cell_type": "markdown",
   "metadata": {},
   "source": [
    "<b>Свойство 1.</b> Ассоциативность умножения. Результат умножения матриц не зависит от порядка, в котором будет выполняться эта операция:"
   ]
  },
  {
   "cell_type": "code",
   "execution_count": null,
   "metadata": {},
   "outputs": [],
   "source": [
    "sum_a = np.matrix('2 2; 4 7')\n",
    "sum_b = np.matrix('6 9; 8 2')\n",
    "sum_c = np.matrix('2 3; 4 5')"
   ]
  },
  {
   "cell_type": "code",
   "execution_count": 61,
   "metadata": {},
   "outputs": [
    {
     "name": "stdout",
     "output_type": "stream",
     "text": [
      "[[144 194]\n",
      " [360 490]]\n"
     ]
    }
   ],
   "source": [
    "sum_l = sum_a.dot(sum_b.dot(sum_c))\n",
    "print(sum_l)"
   ]
  },
  {
   "cell_type": "code",
   "execution_count": 62,
   "metadata": {},
   "outputs": [
    {
     "name": "stdout",
     "output_type": "stream",
     "text": [
      "[[144 194]\n",
      " [360 490]]\n"
     ]
    }
   ],
   "source": [
    "sum_q = (sum_a.dot(sum_b)).dot(sum_c)\n",
    "print(sum_q)"
   ]
  },
  {
   "cell_type": "markdown",
   "metadata": {},
   "source": [
    "<b>Свойство 2.</b> Дистрибутивность умножения. Произведение матрицы на сумму матриц равно сумме произведений матриц:\n"
   ]
  },
  {
   "cell_type": "code",
   "execution_count": 58,
   "metadata": {},
   "outputs": [],
   "source": [
    "sum_a = np.matrix('2 2; 4 7')\n",
    "sum_b = np.matrix('6 9; 8 2')\n",
    "sum_c = np.matrix('2 3; 4 5')"
   ]
  },
  {
   "cell_type": "code",
   "execution_count": 59,
   "metadata": {},
   "outputs": [
    {
     "name": "stdout",
     "output_type": "stream",
     "text": [
      "[[ 40  38]\n",
      " [116  97]]\n"
     ]
    }
   ],
   "source": [
    "sum_l = sum_a.dot(sum_b + sum_c)\n",
    "print(sum_l)"
   ]
  },
  {
   "cell_type": "code",
   "execution_count": 60,
   "metadata": {},
   "outputs": [
    {
     "name": "stdout",
     "output_type": "stream",
     "text": [
      "[[ 40  38]\n",
      " [116  97]]\n"
     ]
    }
   ],
   "source": [
    "sum_r = sum_a.dot(sum_b) + sum_a.dot(sum_c)\n",
    "print(sum_r)"
   ]
  },
  {
   "cell_type": "markdown",
   "metadata": {},
   "source": [
    "<b>Свойство 3.</b> Умножение матриц в общем виде не коммутативно. Это означает, что для матриц не выполняется правило независимости произведения от перестановки множителей:"
   ]
  },
  {
   "cell_type": "code",
   "execution_count": 63,
   "metadata": {},
   "outputs": [],
   "source": [
    "sum_a = np.matrix('2 2; 4 7')\n",
    "sum_b = np.matrix('6 9; 8 2')"
   ]
  },
  {
   "cell_type": "code",
   "execution_count": 64,
   "metadata": {},
   "outputs": [
    {
     "name": "stdout",
     "output_type": "stream",
     "text": [
      "[[28 22]\n",
      " [80 50]]\n"
     ]
    }
   ],
   "source": [
    "sum_l = sum_a.dot(sum_b)\n",
    "print(sum_l)"
   ]
  },
  {
   "cell_type": "code",
   "execution_count": 65,
   "metadata": {},
   "outputs": [
    {
     "name": "stdout",
     "output_type": "stream",
     "text": [
      "[[48 75]\n",
      " [24 30]]\n"
     ]
    }
   ],
   "source": [
    "sum_q = sum_b.dot(sum_a)\n",
    "print(sum_q)"
   ]
  },
  {
   "cell_type": "markdown",
   "metadata": {},
   "source": [
    "<h3>Определитель матрицы</h3>"
   ]
  },
  {
   "cell_type": "code",
   "execution_count": 66,
   "metadata": {},
   "outputs": [
    {
     "name": "stdout",
     "output_type": "stream",
     "text": [
      "[[ 4 -1 -2]\n",
      " [19  4 -1]\n",
      " [ 8  3  1]]\n"
     ]
    }
   ],
   "source": [
    "lin_a = np.matrix('4 -1 -2; 19 4 -1; 8 3 1')\n",
    "print(lin_a)"
   ]
  },
  {
   "cell_type": "code",
   "execution_count": 67,
   "metadata": {},
   "outputs": [
    {
     "data": {
      "text/plain": [
       "4.999999999999997"
      ]
     },
     "execution_count": 67,
     "metadata": {},
     "output_type": "execute_result"
    }
   ],
   "source": [
    "np.linalg.det(lin_a)"
   ]
  },
  {
   "cell_type": "markdown",
   "metadata": {},
   "source": [
    "<b>Свойство 1.</b> Определитель матрицы остается неизменным при ее транспонировании:"
   ]
  },
  {
   "cell_type": "code",
   "execution_count": 68,
   "metadata": {},
   "outputs": [
    {
     "name": "stdout",
     "output_type": "stream",
     "text": [
      "[[ 4 -1 -2]\n",
      " [19  4 -1]\n",
      " [ 8  3  1]]\n"
     ]
    }
   ],
   "source": [
    "lin_a = np.matrix('4 -1 -2; 19 4 -1; 8 3 1')\n",
    "print(lin_a)"
   ]
  },
  {
   "cell_type": "code",
   "execution_count": 69,
   "metadata": {},
   "outputs": [
    {
     "name": "stdout",
     "output_type": "stream",
     "text": [
      "[[ 4 19  8]\n",
      " [-1  4  3]\n",
      " [-2 -1  1]]\n"
     ]
    }
   ],
   "source": [
    "print(lin_a.T)"
   ]
  },
  {
   "cell_type": "code",
   "execution_count": 70,
   "metadata": {},
   "outputs": [
    {
     "name": "stdout",
     "output_type": "stream",
     "text": [
      "5.0\n"
     ]
    }
   ],
   "source": [
    "lin_l = round(np.linalg.det(lin_a), 3)\n",
    "print(lin_l)"
   ]
  },
  {
   "cell_type": "code",
   "execution_count": 72,
   "metadata": {},
   "outputs": [
    {
     "name": "stdout",
     "output_type": "stream",
     "text": [
      "5.0\n"
     ]
    }
   ],
   "source": [
    "lin_q = round(np.linalg.det(lin_a.T), 3)\n",
    "print(lin_q)"
   ]
  },
  {
   "cell_type": "markdown",
   "metadata": {},
   "source": [
    "<b>Свойство 2.</b> Если у матрицы есть строка или столбец, состоящие из нулей, то определитель такой матрицы равен нулю:"
   ]
  },
  {
   "cell_type": "code",
   "execution_count": 73,
   "metadata": {},
   "outputs": [
    {
     "name": "stdout",
     "output_type": "stream",
     "text": [
      "[[ 4 -1 -2]\n",
      " [ 0  0  0]\n",
      " [ 8  3  1]]\n"
     ]
    }
   ],
   "source": [
    "lin_a = np.matrix('4 -1 -2; 0 0 0; 8 3 1')\n",
    "print(lin_a)"
   ]
  },
  {
   "cell_type": "code",
   "execution_count": 74,
   "metadata": {},
   "outputs": [
    {
     "name": "stdout",
     "output_type": "stream",
     "text": [
      "0.0\n"
     ]
    }
   ],
   "source": [
    "print(np.linalg.det(lin_a))"
   ]
  },
  {
   "cell_type": "markdown",
   "metadata": {},
   "source": [
    "<b>Свойство 3.</b> При перестановке строк матрицы знак ее определителя меняется на противоположный:"
   ]
  },
  {
   "cell_type": "code",
   "execution_count": 75,
   "metadata": {},
   "outputs": [],
   "source": [
    "lin_a = np.matrix('4 -1 -2; 19 4 -1; 8 3 1')\n",
    "lin_b = np.matrix('19 4 -1; 4 -1 -2; 8 3 1')"
   ]
  },
  {
   "cell_type": "code",
   "execution_count": 77,
   "metadata": {},
   "outputs": [
    {
     "name": "stdout",
     "output_type": "stream",
     "text": [
      "5.0\n"
     ]
    }
   ],
   "source": [
    "print(round(np.linalg.det(lin_a)))"
   ]
  },
  {
   "cell_type": "code",
   "execution_count": 78,
   "metadata": {},
   "outputs": [
    {
     "name": "stdout",
     "output_type": "stream",
     "text": [
      "-5.0\n"
     ]
    }
   ],
   "source": [
    "print(round(np.linalg.det(lin_b)))"
   ]
  },
  {
   "cell_type": "markdown",
   "metadata": {},
   "source": [
    "<b>Свойство 4.</b> Если у матрицы есть две одинаковые строки, то ее определитель равен нулю:"
   ]
  },
  {
   "cell_type": "code",
   "execution_count": 80,
   "metadata": {},
   "outputs": [
    {
     "name": "stdout",
     "output_type": "stream",
     "text": [
      "[[ 4 -1 -2]\n",
      " [ 4 -1 -2]\n",
      " [ 8  3  1]]\n"
     ]
    }
   ],
   "source": [
    "lin_a = np.matrix('4 -1 -2; 4 -1 -2; 8 3 1')\n",
    "print(lin_a)"
   ]
  },
  {
   "cell_type": "code",
   "execution_count": 81,
   "metadata": {},
   "outputs": [
    {
     "name": "stdout",
     "output_type": "stream",
     "text": [
      "0.0\n"
     ]
    }
   ],
   "source": [
    "print(np.linalg.det(lin_a))"
   ]
  },
  {
   "cell_type": "markdown",
   "metadata": {},
   "source": [
    "<b>Свойство 5.</b> Если все элементы строки или столбца матрицы умножить на какое-то число, то и определитель будет умножен на это число:"
   ]
  },
  {
   "cell_type": "code",
   "execution_count": 86,
   "metadata": {},
   "outputs": [
    {
     "name": "stdout",
     "output_type": "stream",
     "text": [
      "[[ 4 -1 -2]\n",
      " [14 16  8]\n",
      " [ 8  3  1]]\n"
     ]
    }
   ],
   "source": [
    "lin_a = np.matrix('4 -1 -2; 7 8 4; 8 3 1')\n",
    "lin_k = 2\n",
    "lin_b = lin_a.copy()\n",
    "lin_b[1, :] = lin_k * lin_b[1, :]\n",
    "print(lin_b)"
   ]
  },
  {
   "cell_type": "code",
   "execution_count": 87,
   "metadata": {},
   "outputs": [
    {
     "name": "stdout",
     "output_type": "stream",
     "text": [
      "45.0\n"
     ]
    }
   ],
   "source": [
    "lin_l =  round(np.linalg.det(lin_a), 3)\n",
    "print(lin_l)"
   ]
  },
  {
   "cell_type": "code",
   "execution_count": 88,
   "metadata": {},
   "outputs": [
    {
     "name": "stdout",
     "output_type": "stream",
     "text": [
      "90.0\n"
     ]
    }
   ],
   "source": [
    "lin_q =  round(np.linalg.det(lin_b), 3)\n",
    "print(lin_q)"
   ]
  },
  {
   "cell_type": "markdown",
   "metadata": {},
   "source": [
    "<h3>Обратная матрица</h3>"
   ]
  },
  {
   "cell_type": "code",
   "execution_count": 89,
   "metadata": {},
   "outputs": [],
   "source": [
    "rev_a = np.matrix('2 2; 4 7')"
   ]
  },
  {
   "cell_type": "code",
   "execution_count": 90,
   "metadata": {},
   "outputs": [
    {
     "name": "stdout",
     "output_type": "stream",
     "text": [
      "[[-0.08888889 -0.11111111  0.26666667]\n",
      " [ 0.55555556  0.44444444 -0.66666667]\n",
      " [-0.95555556 -0.44444444  0.86666667]]\n"
     ]
    }
   ],
   "source": [
    "print(np.linalg.inv(lin_a))"
   ]
  },
  {
   "cell_type": "markdown",
   "metadata": {},
   "source": [
    "<b>Свойство 1.</b> Обратная матрица обратной матрицы есть исходная матрица:"
   ]
  },
  {
   "cell_type": "code",
   "execution_count": 91,
   "metadata": {},
   "outputs": [
    {
     "name": "stdout",
     "output_type": "stream",
     "text": [
      "[[2. 2.]\n",
      " [4. 7.]]\n"
     ]
    }
   ],
   "source": [
    "rev_a = np.matrix('2 2; 4 7')\n",
    "print( np.linalg.inv(np.linalg.inv(rev_a)))"
   ]
  },
  {
   "cell_type": "markdown",
   "metadata": {},
   "source": [
    "<b>Свойство 2.</b> Обратная матрица транспонированной матрицы равна транспонированной матрице от обратной матрицы:"
   ]
  },
  {
   "cell_type": "code",
   "execution_count": 92,
   "metadata": {},
   "outputs": [],
   "source": [
    "rev_a = np.matrix('2 2; 4 7')"
   ]
  },
  {
   "cell_type": "code",
   "execution_count": 93,
   "metadata": {},
   "outputs": [
    {
     "name": "stdout",
     "output_type": "stream",
     "text": [
      "[[ 1.16666667 -0.66666667]\n",
      " [-0.33333333  0.33333333]]\n"
     ]
    }
   ],
   "source": [
    "rev_l = np.linalg.inv(rev_a.T)\n",
    "print(rev_l)"
   ]
  },
  {
   "cell_type": "code",
   "execution_count": 95,
   "metadata": {},
   "outputs": [
    {
     "name": "stdout",
     "output_type": "stream",
     "text": [
      "[[ 1.16666667 -0.66666667]\n",
      " [-0.33333333  0.33333333]]\n"
     ]
    }
   ],
   "source": [
    "rev_q = (np.linalg.inv(rev_a)).T\n",
    "print(rev_q)"
   ]
  },
  {
   "cell_type": "markdown",
   "metadata": {},
   "source": [
    "<b>Свойство 3.</b> Обратная матрица произведения матриц равна произведению обратных матриц:"
   ]
  },
  {
   "cell_type": "code",
   "execution_count": 98,
   "metadata": {},
   "outputs": [],
   "source": [
    "rev_a = np.matrix('2 2; 4 7')\n",
    "rev_b = np.matrix('6 9; 8 2')"
   ]
  },
  {
   "cell_type": "code",
   "execution_count": 99,
   "metadata": {},
   "outputs": [
    {
     "name": "stdout",
     "output_type": "stream",
     "text": [
      "[[-0.13888889  0.06111111]\n",
      " [ 0.22222222 -0.07777778]]\n"
     ]
    }
   ],
   "source": [
    "print(np.linalg.inv(rev_a.dot(rev_b)))"
   ]
  },
  {
   "cell_type": "code",
   "execution_count": 101,
   "metadata": {},
   "outputs": [
    {
     "name": "stdout",
     "output_type": "stream",
     "text": [
      "[[-0.13888889  0.06111111]\n",
      " [ 0.22222222 -0.07777778]]\n"
     ]
    }
   ],
   "source": [
    "print(np.linalg.inv(rev_b).dot(np.linalg.inv(rev_a))\n",
    ")"
   ]
  },
  {
   "cell_type": "markdown",
   "metadata": {},
   "source": [
    "<h3>Матричный метод.</h3>"
   ]
  },
  {
   "cell_type": "markdown",
   "metadata": {},
   "source": [
    "Рассмотрим систему линейных уравнений:\n",
    "    <ul>\n",
    "        <li>x - 2y + 3z - t = 6</li>\n",
    "        <li>2x + 3y - 4z + 4t = -7</li>\n",
    "        <li>3x + y - 2z - 2t = 9</li>\n",
    "        <li>x - 3y + 7z + 6t = -7</li>\n",
    "    </ul>"
   ]
  },
  {
   "cell_type": "code",
   "execution_count": 106,
   "metadata": {},
   "outputs": [
    {
     "name": "stdout",
     "output_type": "stream",
     "text": [
      "[[ 1 -2  3 -1]\n",
      " [ 2  3 -4  4]\n",
      " [ 3  1 -2 -2]\n",
      " [ 1 -3  7  6]]\n"
     ]
    }
   ],
   "source": [
    "mat_k = np.array([[1, -2, 3, -1], [2, 3, -4, 4], [3, 1, -2, -2], [1, -3, 7, 6]])\n",
    "print(mat_k)"
   ]
  },
  {
   "cell_type": "code",
   "execution_count": 108,
   "metadata": {},
   "outputs": [
    {
     "name": "stdout",
     "output_type": "stream",
     "text": [
      "35.0\n"
     ]
    }
   ],
   "source": [
    "mat_d = round(np.linalg.det(mat_k), 3)\n",
    "print(mat_d)"
   ]
  },
  {
   "cell_type": "code",
   "execution_count": 109,
   "metadata": {},
   "outputs": [
    {
     "name": "stdout",
     "output_type": "stream",
     "text": [
      "[[ 6]\n",
      " [-7]\n",
      " [ 9]\n",
      " [-7]]\n"
     ]
    }
   ],
   "source": [
    "mat_l = np.array([[6], [-7], [9], [-7]])\n",
    "print(mat_l)"
   ]
  },
  {
   "cell_type": "code",
   "execution_count": 111,
   "metadata": {},
   "outputs": [
    {
     "name": "stdout",
     "output_type": "stream",
     "text": [
      "[[ 2.00000000e+00]\n",
      " [-1.00000000e+00]\n",
      " [-2.66453526e-15]\n",
      " [-2.00000000e+00]]\n"
     ]
    }
   ],
   "source": [
    "mat_k_inv = np.linalg.inv(mat_k)\n",
    "print(mat_k_inv @ mat_l)"
   ]
  },
  {
   "cell_type": "code",
   "execution_count": 113,
   "metadata": {},
   "outputs": [
    {
     "name": "stdout",
     "output_type": "stream",
     "text": [
      "[[ 2.]\n",
      " [-1.]\n",
      " [ 0.]\n",
      " [-2.]]\n"
     ]
    }
   ],
   "source": [
    "print(np.linalg.solve(mat_k, mat_l))"
   ]
  },
  {
   "cell_type": "markdown",
   "metadata": {},
   "source": [
    "<h3>Метод Крамера</h3>"
   ]
  },
  {
   "cell_type": "markdown",
   "metadata": {},
   "source": [
    "Найти решение СЛАУ при помощи метода Крамера.\n",
    "    <ul>\n",
    "        <li>x - 2y + 3z - t = 6</li>\n",
    "        <li>2x + 3y - 4z + 4t = -7</li>\n",
    "        <li>3x + y - 2z - 2t = 9</li>\n",
    "        <li>x - 3y + 7z + 6t = -7</li>\n",
    "    </ul>\n"
   ]
  },
  {
   "cell_type": "code",
   "execution_count": 135,
   "metadata": {
    "scrolled": true
   },
   "outputs": [
    {
     "name": "stdout",
     "output_type": "stream",
     "text": [
      "[[ 1 -2  3 -1]\n",
      " [ 2  3 -4  4]\n",
      " [ 3  1 -2 -2]\n",
      " [ 1 -3  7  6]]\n"
     ]
    }
   ],
   "source": [
    "kram_k = np.array([[1, -2, 3, -1], [2, 3, -4, 4], [3, 1, -2, -2], [1, -3, 7, 6]])\n",
    "kram_l = np.array([[6], [-7], [9], [-7]])\n",
    "print(kram_k)"
   ]
  },
  {
   "cell_type": "code",
   "execution_count": 136,
   "metadata": {},
   "outputs": [
    {
     "name": "stdout",
     "output_type": "stream",
     "text": [
      "35.0\n"
     ]
    }
   ],
   "source": [
    "kram_d = round(np.linalg.det(kram_k), 3)\n",
    "print(kram_d)"
   ]
  },
  {
   "cell_type": "code",
   "execution_count": 137,
   "metadata": {},
   "outputs": [
    {
     "name": "stdout",
     "output_type": "stream",
     "text": [
      "[[ 6 -2  3 -1]\n",
      " [-7  3 -4  4]\n",
      " [ 9  1 -2 -2]\n",
      " [-7 -3  7  6]]\n"
     ]
    }
   ],
   "source": [
    "kram_temp = np.copy(kram_k)\n",
    "kram_temp[:, 0] = kram_l[:, 0]\n",
    "print(kram_temp)"
   ]
  },
  {
   "cell_type": "code",
   "execution_count": 138,
   "metadata": {},
   "outputs": [
    {
     "name": "stdout",
     "output_type": "stream",
     "text": [
      "69.99999999999996\n"
     ]
    }
   ],
   "source": [
    "kram_d_1 = np.linalg.det(kram_temp)\n",
    "print(kram_d_1)"
   ]
  },
  {
   "cell_type": "code",
   "execution_count": 139,
   "metadata": {},
   "outputs": [],
   "source": [
    "kram_temp = np.copy(kram_k)\n",
    "kram_temp[:, 1] = kram_l[:, 0]"
   ]
  },
  {
   "cell_type": "code",
   "execution_count": 140,
   "metadata": {},
   "outputs": [
    {
     "name": "stdout",
     "output_type": "stream",
     "text": [
      "-34.99999999999999\n"
     ]
    }
   ],
   "source": [
    "kram_d_2 = np.linalg.det(kram_j)\n",
    "print(kram_d_2)"
   ]
  },
  {
   "cell_type": "code",
   "execution_count": 144,
   "metadata": {},
   "outputs": [],
   "source": [
    "kram_temp = np.copy(kram_k)\n",
    "kram_temp[:, 2] = kram_l[:, 0]"
   ]
  },
  {
   "cell_type": "code",
   "execution_count": 146,
   "metadata": {},
   "outputs": [
    {
     "name": "stdout",
     "output_type": "stream",
     "text": [
      "0.0\n"
     ]
    }
   ],
   "source": [
    "kram_d_3 = np.linalg.det(kram_temp)\n",
    "print(kram_d_3)"
   ]
  },
  {
   "cell_type": "code",
   "execution_count": 148,
   "metadata": {},
   "outputs": [],
   "source": [
    "kram_temp = np.copy(kram_k)\n",
    "kram_temp[:, 3] = kram_l[:, 0]"
   ]
  },
  {
   "cell_type": "code",
   "execution_count": 149,
   "metadata": {},
   "outputs": [
    {
     "name": "stdout",
     "output_type": "stream",
     "text": [
      "-70.00000000000009\n"
     ]
    }
   ],
   "source": [
    "kram_d_4 = np.linalg.det(kram_temp)\n",
    "print(kram_d_4)"
   ]
  },
  {
   "cell_type": "code",
   "execution_count": 151,
   "metadata": {},
   "outputs": [
    {
     "name": "stdout",
     "output_type": "stream",
     "text": [
      "x = 1.999999999999999 \n",
      "y = -0.9999999999999998 \n",
      "z = 0.0 \n",
      "t = -2.000000000000002\n"
     ]
    }
   ],
   "source": [
    "print(f\"x = {kram_d_1/kram_d} \\ny = {kram_d_2/kram_d} \\nz = {kram_d_3/kram_d} \\nt = {kram_d_4/kram_d}\" )"
   ]
  }
 ],
 "metadata": {
  "kernelspec": {
   "display_name": "Python 3",
   "language": "python",
   "name": "python3"
  },
  "language_info": {
   "codemirror_mode": {
    "name": "ipython",
    "version": 3
   },
   "file_extension": ".py",
   "mimetype": "text/x-python",
   "name": "python",
   "nbconvert_exporter": "python",
   "pygments_lexer": "ipython3",
   "version": "3.8.3"
  }
 },
 "nbformat": 4,
 "nbformat_minor": 4
}
