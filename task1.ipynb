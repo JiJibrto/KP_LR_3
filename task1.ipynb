{
 "cells": [
  {
   "cell_type": "markdown",
   "metadata": {},
   "source": [
    "<h1>Лабораторная работа 3. Исследование методов работы с матрицами и векторами с помощью библиотеки NumPy<h1>"
   ]
  },
  {
   "cell_type": "code",
   "execution_count": 6,
   "metadata": {},
   "outputs": [],
   "source": [
    "import numpy as np"
   ]
  },
  {
   "cell_type": "markdown",
   "metadata": {},
   "source": [
    "<h3>Транспонирование матрицы</h3>"
   ]
  },
  {
   "cell_type": "code",
   "execution_count": 7,
   "metadata": {},
   "outputs": [
    {
     "name": "stdout",
     "output_type": "stream",
     "text": [
      "[[2 4 5]\n",
      " [0 9 8]]\n"
     ]
    }
   ],
   "source": [
    "trans_arr = np.matrix('2 4 5; 0 9 8')\n",
    "print(trans_arr)"
   ]
  },
  {
   "cell_type": "code",
   "execution_count": 13,
   "metadata": {},
   "outputs": [
    {
     "name": "stdout",
     "output_type": "stream",
     "text": [
      "[[2 0]\n",
      " [4 9]\n",
      " [5 8]]\n"
     ]
    }
   ],
   "source": [
    "trans = trans_arr.transpose()\n",
    "print(trans)"
   ]
  },
  {
   "cell_type": "markdown",
   "metadata": {},
   "source": [
    "<b>Свойство 1.</b> Дважды транспонированная матрица равна исходной матрице:"
   ]
  },
  {
   "cell_type": "code",
   "execution_count": 14,
   "metadata": {},
   "outputs": [
    {
     "name": "stdout",
     "output_type": "stream",
     "text": [
      "[[2 4 5]\n",
      " [1 0 2]\n",
      " [2 8 5]]\n"
     ]
    }
   ],
   "source": [
    "trans_a = np.matrix('2 4 5; 1 0 2; 2 8 5')\n",
    "print(trans_a)"
   ]
  },
  {
   "cell_type": "code",
   "execution_count": 15,
   "metadata": {},
   "outputs": [
    {
     "name": "stdout",
     "output_type": "stream",
     "text": [
      "[[2 4 5]\n",
      " [1 0 2]\n",
      " [2 8 5]]\n"
     ]
    }
   ],
   "source": [
    "print((trans_a.T).T)"
   ]
  },
  {
   "cell_type": "markdown",
   "metadata": {},
   "source": [
    "<b>Свойство 2.</b> Транспонирование суммы матриц равно сумме транспонированных матриц:"
   ]
  },
  {
   "cell_type": "code",
   "execution_count": 9,
   "metadata": {},
   "outputs": [],
   "source": [
    "trans_a = np.matrix('2 4 5; 8 9 10')\n",
    "trans_b = np.matrix('7 8 9; 5 6 1')"
   ]
  },
  {
   "cell_type": "code",
   "execution_count": 10,
   "metadata": {},
   "outputs": [
    {
     "name": "stdout",
     "output_type": "stream",
     "text": [
      "[[ 9 13]\n",
      " [12 15]\n",
      " [14 11]]\n"
     ]
    }
   ],
   "source": [
    "trans_l = (trans_a + trans_b).T\n",
    "print(trans_l)"
   ]
  },
  {
   "cell_type": "code",
   "execution_count": 11,
   "metadata": {},
   "outputs": [
    {
     "name": "stdout",
     "output_type": "stream",
     "text": [
      "[[ 9 13]\n",
      " [12 15]\n",
      " [14 11]]\n"
     ]
    }
   ],
   "source": [
    "trans_r = trans_a.T + trans_b.T\n",
    "print(trans_r)"
   ]
  },
  {
   "cell_type": "markdown",
   "metadata": {},
   "source": [
    "<b>Свойство 3.</b> Транспонирование произведения матриц равно произведению транспонированных\n",
    "матриц расставленных в обратном порядке:"
   ]
  },
  {
   "cell_type": "code",
   "execution_count": 19,
   "metadata": {},
   "outputs": [],
   "source": [
    "trans_a = np.matrix('2 6; 9 1')\n",
    "trans_b = np.matrix('5 8; 1 4')"
   ]
  },
  {
   "cell_type": "code",
   "execution_count": 17,
   "metadata": {},
   "outputs": [
    {
     "name": "stdout",
     "output_type": "stream",
     "text": [
      "[[16 46]\n",
      " [40 76]]\n"
     ]
    }
   ],
   "source": [
    "trans_l = (trans_a.dot(trans_b)).T\n",
    "print(trans_l)"
   ]
  },
  {
   "cell_type": "code",
   "execution_count": 18,
   "metadata": {},
   "outputs": [
    {
     "name": "stdout",
     "output_type": "stream",
     "text": [
      "[[16 46]\n",
      " [40 76]]\n"
     ]
    }
   ],
   "source": [
    "trans_r = (trans_b.T).dot(trans_a.T)\n",
    "print(trans_r)"
   ]
  },
  {
   "cell_type": "markdown",
   "metadata": {},
   "source": [
    "<b>Свойство 4.</b>  Транспонирование произведения матрицы на число равно произведению этого\n",
    "числа на транспонированную матрицу:"
   ]
  },
  {
   "cell_type": "code",
   "execution_count": 22,
   "metadata": {},
   "outputs": [],
   "source": [
    "trans_a = np.matrix('2 9 7; 1 3 8')\n",
    "trans_k = 4"
   ]
  },
  {
   "cell_type": "code",
   "execution_count": 23,
   "metadata": {},
   "outputs": [
    {
     "name": "stdout",
     "output_type": "stream",
     "text": [
      "[[ 8  4]\n",
      " [36 12]\n",
      " [28 32]]\n"
     ]
    }
   ],
   "source": [
    "trans_l = (trans_k * trans_a).T\n",
    "print(trans_l)"
   ]
  },
  {
   "cell_type": "code",
   "execution_count": 27,
   "metadata": {},
   "outputs": [
    {
     "name": "stdout",
     "output_type": "stream",
     "text": [
      "Ляляля я Саня [[ 8  4]\n",
      " [36 12]\n",
      " [28 32]] попопопоп\n"
     ]
    }
   ],
   "source": [
    "trans_r = trans_k * (trans_a.T)\n",
    "print(f\"Ляляля я Саня {trans_r} попопопоп\")"
   ]
  },
  {
   "cell_type": "markdown",
   "metadata": {},
   "source": [
    "<h2>Действия над матрицами</h2>"
   ]
  },
  {
   "cell_type": "markdown",
   "metadata": {},
   "source": [
    "<h3>Умножение матрицы на число</h3>"
   ]
  },
  {
   "cell_type": "code",
   "execution_count": 26,
   "metadata": {},
   "outputs": [
    {
     "name": "stdout",
     "output_type": "stream",
     "text": [
      "[[ 8  8  8]\n",
      " [16 16 16]]\n"
     ]
    }
   ],
   "source": [
    "A = np.matrix('1 1 1; 2 2 2')\n",
    "B = 8 * A\n",
    "print(B)"
   ]
  },
  {
   "cell_type": "markdown",
   "metadata": {},
   "source": [
    "<b>Свойство 1.</b> Произведение единицы и любой заданной матрицы равно заданной матрице:"
   ]
  },
  {
   "cell_type": "code",
   "execution_count": 29,
   "metadata": {},
   "outputs": [
    {
     "name": "stdout",
     "output_type": "stream",
     "text": [
      "[[1 1]\n",
      " [2 2]]\n"
     ]
    }
   ],
   "source": [
    "A = np.matrix('1 1; 2 2')\n",
    "print(A)"
   ]
  },
  {
   "cell_type": "code",
   "execution_count": 30,
   "metadata": {},
   "outputs": [
    {
     "name": "stdout",
     "output_type": "stream",
     "text": [
      "[[1 1]\n",
      " [2 2]]\n"
     ]
    }
   ],
   "source": [
    "B = A *1\n",
    "print(B)"
   ]
  },
  {
   "cell_type": "markdown",
   "metadata": {},
   "source": [
    "<b>Свойство 2.</b> Если у матрицы есть строка или столбец, состоящие из нулей, то определитель\n",
    "такой матрицы равен нулю:"
   ]
  },
  {
   "cell_type": "code",
   "execution_count": null,
   "metadata": {},
   "outputs": [],
   "source": []
  }
 ],
 "metadata": {
  "kernelspec": {
   "display_name": "Python 3",
   "language": "python",
   "name": "python3"
  },
  "language_info": {
   "codemirror_mode": {
    "name": "ipython",
    "version": 3
   },
   "file_extension": ".py",
   "mimetype": "text/x-python",
   "name": "python",
   "nbconvert_exporter": "python",
   "pygments_lexer": "ipython3",
   "version": "3.8.3"
  }
 },
 "nbformat": 4,
 "nbformat_minor": 4
}
